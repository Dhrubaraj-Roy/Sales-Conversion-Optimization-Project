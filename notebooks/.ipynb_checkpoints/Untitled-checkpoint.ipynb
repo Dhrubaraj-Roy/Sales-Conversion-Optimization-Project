{
 "cells": [
  {
   "cell_type": "markdown",
   "id": "94694c5d-4abb-4708-862d-7d9c3caac48f",
   "metadata": {},
   "source": [
    "# 1.Sales Conversion Optimization - EDA\n",
    "\n",
    "## Problem Statement\n",
    "- Optimize Sales Conversion of anonymous organization "
   ]
  },
  {
   "cell_type": "markdown",
   "id": "a0fda801-6d6a-411e-a687-0e6750b63782",
   "metadata": {},
   "source": [
    "## 1.Importing Necessary Lib"
   ]
  }
 ],
 "metadata": {
  "kernelspec": {
   "display_name": "Python 3 (ipykernel)",
   "language": "python",
   "name": "python3"
  },
  "language_info": {
   "codemirror_mode": {
    "name": "ipython",
    "version": 3
   },
   "file_extension": ".py",
   "mimetype": "text/x-python",
   "name": "python",
   "nbconvert_exporter": "python",
   "pygments_lexer": "ipython3",
   "version": "3.9.18"
  }
 },
 "nbformat": 4,
 "nbformat_minor": 5
}
